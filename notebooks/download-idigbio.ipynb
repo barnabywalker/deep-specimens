{
 "cells": [
  {
   "cell_type": "code",
   "execution_count": null,
   "id": "0dbd1e19",
   "metadata": {},
   "outputs": [],
   "source": [
    "import requests\n",
    "import pandas as pd\n",
    "import os\n",
    "\n",
    "from PIL import Image\n",
    "from tqdm.notebook import tqdm"
   ]
  },
  {
   "cell_type": "markdown",
   "id": "02291553-b14b-47b3-bd30-5361c4d1a95e",
   "metadata": {},
   "source": [
    "# Download Kew specimens from iDigBio\n",
    "\n",
    "This notebook downloads all images associated with an [iDigBio](https://www.idigbio.org/portal/search) search.\n",
    "\n",
    "To run it, you'll first have to generate the search on iDigBio and download the associated `multimedia` and `occurrence` files.\n",
    "\n",
    "For example, for applications 2 and 3, we used Kew specimens for distinct and similar genera. We searched for these specimen images using, e.g.:\n",
    "\n",
    "```\n",
    "[x] Must have media\n",
    "Genus: Dendrobium\n",
    "Institution Code: K\n",
    "Basis of Record: PreservedSpecimen\n",
    "```"
   ]
  },
  {
   "cell_type": "markdown",
   "id": "99e94f64-1fc0-4db3-8af6-f673a43a44a2",
   "metadata": {},
   "source": [
    "## Load metdata\n",
    "\n",
    "We need both the `multimedia` and `occurrence` files from the search."
   ]
  },
  {
   "cell_type": "code",
   "execution_count": null,
   "id": "2512740d",
   "metadata": {},
   "outputs": [],
   "source": [
    "urls = pd.read_csv(\"../data/kew-dendrobium-multimedia.csv\")\n",
    "occ = pd.read_csv(\"../data/kew-dendrobium-occurrence.csv\")"
   ]
  },
  {
   "cell_type": "markdown",
   "id": "5b84961c-5d1b-4748-bf1e-7f311bd9234d",
   "metadata": {},
   "source": [
    "So that we can label each URL with the specimen barcode, for future reference."
   ]
  },
  {
   "cell_type": "code",
   "execution_count": null,
   "id": "3dec6c31",
   "metadata": {},
   "outputs": [],
   "source": [
    "d = urls.merge(occ, on=\"coreid\").loc[:, [\"ac:accessURI\", \"dwc:occurrenceID\"]]"
   ]
  },
  {
   "cell_type": "markdown",
   "id": "7dc9cea7-b582-4424-969a-c75d4c9d24d4",
   "metadata": {},
   "source": [
    "## Setup download folder"
   ]
  },
  {
   "cell_type": "code",
   "execution_count": null,
   "id": "fd18df7c",
   "metadata": {},
   "outputs": [],
   "source": [
    "outpath = \"../data/kew-images/dendrobium\""
   ]
  },
  {
   "cell_type": "code",
   "execution_count": null,
   "id": "286a7797",
   "metadata": {},
   "outputs": [],
   "source": [
    "if not os.path.exists(outpath):\n",
    "    os.mkdir(outpath)"
   ]
  },
  {
   "cell_type": "markdown",
   "id": "a5890654-1432-453e-9379-061170e9ac64",
   "metadata": {},
   "source": [
    "## Download images\n",
    "\n",
    "We'll loop over the barcodes and urls and give each image the barcode as the filename."
   ]
  },
  {
   "cell_type": "code",
   "execution_count": null,
   "id": "a8257618",
   "metadata": {},
   "outputs": [],
   "source": [
    "barcodes = d[\"dwc:occurrenceID\"].str.split(\"/\").str[-1].values\n",
    "urls = d[\"ac:accessURI\"].values"
   ]
  },
  {
   "cell_type": "code",
   "execution_count": null,
   "id": "27dfe673",
   "metadata": {},
   "outputs": [],
   "source": [
    "for barcode, url in tqdm(zip(barcodes, urls), total=len(urls)):\n",
    "    img_path = os.path.join(outpath, f\"{barcode}.jpg\")\n",
    "    if not os.path.exists(img_path):\n",
    "        image_data = requests.get(url).content\n",
    "        with open(img_path, \"wb\") as handler:\n",
    "            handler.write(image_data)"
   ]
  },
  {
   "cell_type": "markdown",
   "id": "9b74f950-064d-4fe0-8261-33c643b28419",
   "metadata": {},
   "source": [
    "Some of the images don't download properly, so we'll remove them so we don't have problems later."
   ]
  },
  {
   "cell_type": "code",
   "execution_count": null,
   "id": "7b9ecfef",
   "metadata": {},
   "outputs": [],
   "source": [
    "img_files = [f for f in os.listdir(outpath) if f.endswith(\".jpg\")]\n",
    "\n",
    "for f in tqdm(img_files):\n",
    "    try:\n",
    "        img = Image.open(os.path.join(outpath, f))\n",
    "        img.verify()\n",
    "    except(IOError, SyntaxError) as e:\n",
    "        print(f)\n",
    "        os.remove(os.path.join(outpath, f))"
   ]
  }
 ],
 "metadata": {
  "kernelspec": {
   "display_name": "Python 3 (ipykernel)",
   "language": "python",
   "name": "python3"
  },
  "language_info": {
   "codemirror_mode": {
    "name": "ipython",
    "version": 3
   },
   "file_extension": ".py",
   "mimetype": "text/x-python",
   "name": "python",
   "nbconvert_exporter": "python",
   "pygments_lexer": "ipython3",
   "version": "3.9.7"
  }
 },
 "nbformat": 4,
 "nbformat_minor": 5
}
